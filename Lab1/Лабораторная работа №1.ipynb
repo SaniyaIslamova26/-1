{
 "cells": [
  {
   "cell_type": "markdown",
   "id": "bd0c5354-a136-4b28-8a73-25d19584dd8a",
   "metadata": {},
   "source": [
    "Исламова Сания Маратовна\n",
    "НПИмд-01-24\n",
    "(студ. билет 1132249576)"
   ]
  },
  {
   "cell_type": "markdown",
   "id": "d5681611-3163-42b6-963e-ca37e2a0e203",
   "metadata": {},
   "source": [
    "Задачи: \n",
    "\n",
    "Установить tensorflow 2. \n",
    "\n",
    "Создать трансформерную сеть для определения местоположения объектов относительно друг друга.\n",
    "Сделать возможность сравнения (как в VQA) местоположения объектов друг с другом.\n",
    "Relational reasoning – датасет CLEVR.\n",
    "\n",
    "Зарегистрировать GitHub аккаунт.\n",
    "\n"
   ]
  },
  {
   "cell_type": "markdown",
   "id": "20b1b43f-d0ca-4576-a873-7613a8d55cb3",
   "metadata": {},
   "source": [
    "Установка и проверка версии Tensorflow"
   ]
  },
  {
   "cell_type": "code",
   "execution_count": 1,
   "id": "9aafc0de-077b-4a95-b14b-97976b5da338",
   "metadata": {},
   "outputs": [
    {
     "name": "stdout",
     "output_type": "stream",
     "text": [
      "TensorFlow version: 2.17.0\n"
     ]
    }
   ],
   "source": [
    "#Установка Tensorflow 2\n",
    "# pip install tensorflow / conda install tensorflow\n",
    "\n",
    "#Проверка установки и версии tensorflow\n",
    "import tensorflow as tf\n",
    "print(f\"TensorFlow version: {tf.__version__}\")"
   ]
  },
  {
   "cell_type": "markdown",
   "id": "d698fac7-440b-4ef7-beaa-a8848cc2738c",
   "metadata": {},
   "source": [
    "Импорт и загрузка данных "
   ]
  },
  {
   "cell_type": "code",
   "execution_count": 3,
   "id": "a70fe311-1c78-453a-905f-3412eb57472b",
   "metadata": {},
   "outputs": [
    {
     "name": "stdout",
     "output_type": "stream",
     "text": [
      "Всего вопросов в датасете: 699989\n"
     ]
    }
   ],
   "source": [
    "#Импорт необходимых библиотек\n",
    "import tensorflow as tf\n",
    "from tensorflow.keras import layers\n",
    "import json\n",
    "import random\n",
    "import numpy as np\n",
    "from tensorflow.keras.preprocessing.text import Tokenizer\n",
    "from tensorflow.keras.preprocessing.sequence import pad_sequences\n",
    "import matplotlib.pyplot as plt\n",
    "\n",
    "# Указываем путь к датасету CLEVR, который скачан на ноутбук (датасет без изображений)\n",
    "path_to_dataset = \"C:\\\\Users\\\\4eka0\\\\Downloads\\\\CLEVR\\\\questions\\\\CLEVR_train_questions.json\"\n",
    "\n",
    "# Загрузка JSON-файла\n",
    "with open(path_to_dataset, 'r') as f:\n",
    "    clevr_data = json.load(f)\n",
    "\n",
    "questions = clevr_data['questions']\n",
    "print(f\"Всего вопросов в датасете: {len(questions)}\")"
   ]
  },
  {
   "cell_type": "markdown",
   "id": "9c2f261c-d935-418f-add5-3a6b72fdfab4",
   "metadata": {},
   "source": [
    "Выбор случайных вопросов и подготовка данных"
   ]
  },
  {
   "cell_type": "code",
   "execution_count": 7,
   "id": "92f25d3f-2f43-4063-b851-4e72cb6a1b58",
   "metadata": {},
   "outputs": [],
   "source": [
    "# Выбор случайных 1000 вопросов для обучения\n",
    "random.shuffle(questions)\n",
    "train_data = questions[:1000]\n",
    "\n",
    "# Подготовка вопросов и ответов\n",
    "all_questions = [q['question'] for q in train_data]\n",
    "all_answers = [q['answer'] for q in train_data]\n",
    "\n",
    "# Преобразование ответов в числовой формат\n",
    "unique_answers = list(set(all_answers))\n",
    "answer_to_index = {ans: i for i, ans in enumerate(unique_answers)}\n",
    "indexed_answers = [answer_to_index[ans] for ans in all_answers]\n",
    "\n",
    "# Токенизация текстов\n",
    "tokenizer = Tokenizer()\n",
    "tokenizer.fit_on_texts(all_questions)\n",
    "sequences = tokenizer.texts_to_sequences(all_questions)\n",
    "word_index = tokenizer.word_index\n",
    "\n",
    "# Паддинг последовательностей\n",
    "max_len = max(len(seq) for seq in sequences)\n",
    "padded_sequences = pad_sequences(sequences, maxlen=max_len)\n",
    "\n",
    "# Преобразование ответов в numpy массив\n",
    "y_train = np.array(indexed_answers)"
   ]
  },
  {
   "cell_type": "markdown",
   "id": "afbb7bc1-c448-458c-ae26-49faffc02c60",
   "metadata": {},
   "source": [
    "Создание трансформерной модели"
   ]
  },
  {
   "cell_type": "code",
   "execution_count": 21,
   "id": "b603aea5-7ed0-4d17-8906-e40e717e08f3",
   "metadata": {},
   "outputs": [
    {
     "name": "stdout",
     "output_type": "stream",
     "text": [
      "Epoch 1/30\n",
      "\u001b[1m32/32\u001b[0m \u001b[32m━━━━━━━━━━━━━━━━━━━━\u001b[0m\u001b[37m\u001b[0m \u001b[1m5s\u001b[0m 41ms/step - accuracy: 0.1730 - loss: 2.7975\n",
      "Epoch 2/30\n",
      "\u001b[1m32/32\u001b[0m \u001b[32m━━━━━━━━━━━━━━━━━━━━\u001b[0m\u001b[37m\u001b[0m \u001b[1m1s\u001b[0m 40ms/step - accuracy: 0.2859 - loss: 2.2755\n",
      "Epoch 3/30\n",
      "\u001b[1m32/32\u001b[0m \u001b[32m━━━━━━━━━━━━━━━━━━━━\u001b[0m\u001b[37m\u001b[0m \u001b[1m1s\u001b[0m 40ms/step - accuracy: 0.3489 - loss: 1.6901\n",
      "Epoch 4/30\n",
      "\u001b[1m32/32\u001b[0m \u001b[32m━━━━━━━━━━━━━━━━━━━━\u001b[0m\u001b[37m\u001b[0m \u001b[1m1s\u001b[0m 41ms/step - accuracy: 0.4270 - loss: 1.4958\n",
      "Epoch 5/30\n",
      "\u001b[1m32/32\u001b[0m \u001b[32m━━━━━━━━━━━━━━━━━━━━\u001b[0m\u001b[37m\u001b[0m \u001b[1m1s\u001b[0m 41ms/step - accuracy: 0.4424 - loss: 1.4335\n",
      "Epoch 6/30\n",
      "\u001b[1m32/32\u001b[0m \u001b[32m━━━━━━━━━━━━━━━━━━━━\u001b[0m\u001b[37m\u001b[0m \u001b[1m1s\u001b[0m 41ms/step - accuracy: 0.4442 - loss: 1.2815\n",
      "Epoch 7/30\n",
      "\u001b[1m32/32\u001b[0m \u001b[32m━━━━━━━━━━━━━━━━━━━━\u001b[0m\u001b[37m\u001b[0m \u001b[1m1s\u001b[0m 42ms/step - accuracy: 0.4726 - loss: 1.1871\n",
      "Epoch 8/30\n",
      "\u001b[1m32/32\u001b[0m \u001b[32m━━━━━━━━━━━━━━━━━━━━\u001b[0m\u001b[37m\u001b[0m \u001b[1m1s\u001b[0m 41ms/step - accuracy: 0.4827 - loss: 1.1892\n",
      "Epoch 9/30\n",
      "\u001b[1m32/32\u001b[0m \u001b[32m━━━━━━━━━━━━━━━━━━━━\u001b[0m\u001b[37m\u001b[0m \u001b[1m1s\u001b[0m 42ms/step - accuracy: 0.5237 - loss: 1.1319\n",
      "Epoch 10/30\n",
      "\u001b[1m32/32\u001b[0m \u001b[32m━━━━━━━━━━━━━━━━━━━━\u001b[0m\u001b[37m\u001b[0m \u001b[1m1s\u001b[0m 43ms/step - accuracy: 0.5526 - loss: 1.0643\n",
      "Epoch 11/30\n",
      "\u001b[1m32/32\u001b[0m \u001b[32m━━━━━━━━━━━━━━━━━━━━\u001b[0m\u001b[37m\u001b[0m \u001b[1m1s\u001b[0m 43ms/step - accuracy: 0.5328 - loss: 1.0515\n",
      "Epoch 12/30\n",
      "\u001b[1m32/32\u001b[0m \u001b[32m━━━━━━━━━━━━━━━━━━━━\u001b[0m\u001b[37m\u001b[0m \u001b[1m1s\u001b[0m 42ms/step - accuracy: 0.5173 - loss: 1.0858\n",
      "Epoch 13/30\n",
      "\u001b[1m32/32\u001b[0m \u001b[32m━━━━━━━━━━━━━━━━━━━━\u001b[0m\u001b[37m\u001b[0m \u001b[1m1s\u001b[0m 39ms/step - accuracy: 0.5321 - loss: 1.0480\n",
      "Epoch 14/30\n",
      "\u001b[1m32/32\u001b[0m \u001b[32m━━━━━━━━━━━━━━━━━━━━\u001b[0m\u001b[37m\u001b[0m \u001b[1m1s\u001b[0m 39ms/step - accuracy: 0.5209 - loss: 1.0134\n",
      "Epoch 15/30\n",
      "\u001b[1m32/32\u001b[0m \u001b[32m━━━━━━━━━━━━━━━━━━━━\u001b[0m\u001b[37m\u001b[0m \u001b[1m1s\u001b[0m 40ms/step - accuracy: 0.5758 - loss: 0.9567\n",
      "Epoch 16/30\n",
      "\u001b[1m32/32\u001b[0m \u001b[32m━━━━━━━━━━━━━━━━━━━━\u001b[0m\u001b[37m\u001b[0m \u001b[1m1s\u001b[0m 41ms/step - accuracy: 0.5403 - loss: 1.0148\n",
      "Epoch 17/30\n",
      "\u001b[1m32/32\u001b[0m \u001b[32m━━━━━━━━━━━━━━━━━━━━\u001b[0m\u001b[37m\u001b[0m \u001b[1m1s\u001b[0m 41ms/step - accuracy: 0.5621 - loss: 0.9747\n",
      "Epoch 18/30\n",
      "\u001b[1m32/32\u001b[0m \u001b[32m━━━━━━━━━━━━━━━━━━━━\u001b[0m\u001b[37m\u001b[0m \u001b[1m1s\u001b[0m 43ms/step - accuracy: 0.5667 - loss: 0.9799\n",
      "Epoch 19/30\n",
      "\u001b[1m32/32\u001b[0m \u001b[32m━━━━━━━━━━━━━━━━━━━━\u001b[0m\u001b[37m\u001b[0m \u001b[1m1s\u001b[0m 41ms/step - accuracy: 0.5639 - loss: 0.9457\n",
      "Epoch 20/30\n",
      "\u001b[1m32/32\u001b[0m \u001b[32m━━━━━━━━━━━━━━━━━━━━\u001b[0m\u001b[37m\u001b[0m \u001b[1m1s\u001b[0m 43ms/step - accuracy: 0.5759 - loss: 0.9371\n",
      "Epoch 21/30\n",
      "\u001b[1m32/32\u001b[0m \u001b[32m━━━━━━━━━━━━━━━━━━━━\u001b[0m\u001b[37m\u001b[0m \u001b[1m1s\u001b[0m 42ms/step - accuracy: 0.6100 - loss: 0.8819\n",
      "Epoch 22/30\n",
      "\u001b[1m32/32\u001b[0m \u001b[32m━━━━━━━━━━━━━━━━━━━━\u001b[0m\u001b[37m\u001b[0m \u001b[1m1s\u001b[0m 43ms/step - accuracy: 0.6172 - loss: 0.8796\n",
      "Epoch 23/30\n",
      "\u001b[1m32/32\u001b[0m \u001b[32m━━━━━━━━━━━━━━━━━━━━\u001b[0m\u001b[37m\u001b[0m \u001b[1m1s\u001b[0m 41ms/step - accuracy: 0.5827 - loss: 0.9088\n",
      "Epoch 24/30\n",
      "\u001b[1m32/32\u001b[0m \u001b[32m━━━━━━━━━━━━━━━━━━━━\u001b[0m\u001b[37m\u001b[0m \u001b[1m1s\u001b[0m 42ms/step - accuracy: 0.6032 - loss: 0.8633\n",
      "Epoch 25/30\n",
      "\u001b[1m32/32\u001b[0m \u001b[32m━━━━━━━━━━━━━━━━━━━━\u001b[0m\u001b[37m\u001b[0m \u001b[1m1s\u001b[0m 39ms/step - accuracy: 0.6021 - loss: 0.8936\n",
      "Epoch 26/30\n",
      "\u001b[1m32/32\u001b[0m \u001b[32m━━━━━━━━━━━━━━━━━━━━\u001b[0m\u001b[37m\u001b[0m \u001b[1m1s\u001b[0m 41ms/step - accuracy: 0.6062 - loss: 0.8831\n",
      "Epoch 27/30\n",
      "\u001b[1m32/32\u001b[0m \u001b[32m━━━━━━━━━━━━━━━━━━━━\u001b[0m\u001b[37m\u001b[0m \u001b[1m1s\u001b[0m 41ms/step - accuracy: 0.6513 - loss: 0.7932\n",
      "Epoch 28/30\n",
      "\u001b[1m32/32\u001b[0m \u001b[32m━━━━━━━━━━━━━━━━━━━━\u001b[0m\u001b[37m\u001b[0m \u001b[1m1s\u001b[0m 43ms/step - accuracy: 0.6416 - loss: 0.7918\n",
      "Epoch 29/30\n",
      "\u001b[1m32/32\u001b[0m \u001b[32m━━━━━━━━━━━━━━━━━━━━\u001b[0m\u001b[37m\u001b[0m \u001b[1m1s\u001b[0m 42ms/step - accuracy: 0.6439 - loss: 0.8188\n",
      "Epoch 30/30\n",
      "\u001b[1m32/32\u001b[0m \u001b[32m━━━━━━━━━━━━━━━━━━━━\u001b[0m\u001b[37m\u001b[0m \u001b[1m1s\u001b[0m 41ms/step - accuracy: 0.6316 - loss: 0.8079\n"
     ]
    },
    {
     "data": {
      "text/plain": [
       "<keras.src.callbacks.history.History at 0x1c262c2afc0>"
      ]
     },
     "execution_count": 21,
     "metadata": {},
     "output_type": "execute_result"
    }
   ],
   "source": [
    "def build_transformer_model(vocab_size, max_len, num_classes):\n",
    "    inputs = layers.Input(shape=(max_len,))\n",
    "    embedding = layers.Embedding(input_dim=vocab_size, output_dim=128)(inputs)\n",
    "\n",
    "    # Трансформерная часть\n",
    "    x = layers.MultiHeadAttention(num_heads=4, key_dim=128)(embedding, embedding)\n",
    "    x = layers.LayerNormalization()(x + embedding)\n",
    "    x = layers.GlobalAveragePooling1D()(x)\n",
    "\n",
    "    # Классификация\n",
    "    outputs = layers.Dense(num_classes, activation='softmax')(x)\n",
    "    model = tf.keras.Model(inputs, outputs)\n",
    "    return model\n",
    "\n",
    "# Создание модели\n",
    "model = build_transformer_model(vocab_size=len(word_index) + 1, max_len=max_len, num_classes=len(unique_answers))\n",
    "\n",
    "# Компиляция модели\n",
    "model.compile(optimizer='adam', loss='sparse_categorical_crossentropy', metrics=['accuracy'])\n",
    "\n",
    "# Обучение модели\n",
    "model.fit(padded_sequences, y_train, epochs=30, batch_size=32)"
   ]
  },
  {
   "cell_type": "markdown",
   "id": "96669880-1a3d-42a2-b782-1a712fb57742",
   "metadata": {},
   "source": [
    "Тестирование модели на 10 случайных вопросах"
   ]
  },
  {
   "cell_type": "code",
   "execution_count": 23,
   "id": "1879e3c7-4d3c-44ec-a79a-e6d3c52bab0c",
   "metadata": {},
   "outputs": [
    {
     "name": "stdout",
     "output_type": "stream",
     "text": [
      "\u001b[1m1/1\u001b[0m \u001b[32m━━━━━━━━━━━━━━━━━━━━\u001b[0m\u001b[37m\u001b[0m \u001b[1m0s\u001b[0m 234ms/step\n",
      "Вопрос 1: There is a green rubber object in front of the green thing to the left of the small matte thing that is in front of the large metallic cylinder; how big is it?\n",
      "Реальный ответ: small\n",
      "Предсказанный ответ: small\n",
      "--------------------------------------------------\n",
      "\u001b[1m1/1\u001b[0m \u001b[32m━━━━━━━━━━━━━━━━━━━━\u001b[0m\u001b[37m\u001b[0m \u001b[1m0s\u001b[0m 36ms/step\n",
      "Вопрос 2: How many other things are the same material as the tiny red cube?\n",
      "Реальный ответ: 1\n",
      "Предсказанный ответ: 1\n",
      "--------------------------------------------------\n",
      "\u001b[1m1/1\u001b[0m \u001b[32m━━━━━━━━━━━━━━━━━━━━\u001b[0m\u001b[37m\u001b[0m \u001b[1m0s\u001b[0m 37ms/step\n",
      "Вопрос 3: Is the number of large green matte spheres that are left of the small brown thing less than the number of cubes right of the green rubber ball?\n",
      "Реальный ответ: no\n",
      "Предсказанный ответ: yes\n",
      "--------------------------------------------------\n",
      "\u001b[1m1/1\u001b[0m \u001b[32m━━━━━━━━━━━━━━━━━━━━\u001b[0m\u001b[37m\u001b[0m \u001b[1m0s\u001b[0m 38ms/step\n",
      "Вопрос 4: What number of tiny brown things have the same shape as the green object?\n",
      "Реальный ответ: 0\n",
      "Предсказанный ответ: 0\n",
      "--------------------------------------------------\n",
      "\u001b[1m1/1\u001b[0m \u001b[32m━━━━━━━━━━━━━━━━━━━━\u001b[0m\u001b[37m\u001b[0m \u001b[1m0s\u001b[0m 39ms/step\n",
      "Вопрос 5: Are there fewer large purple balls that are in front of the ball than purple spheres that are in front of the small yellow cube?\n",
      "Реальный ответ: yes\n",
      "Предсказанный ответ: yes\n",
      "--------------------------------------------------\n",
      "\u001b[1m1/1\u001b[0m \u001b[32m━━━━━━━━━━━━━━━━━━━━\u001b[0m\u001b[37m\u001b[0m \u001b[1m0s\u001b[0m 38ms/step\n",
      "Вопрос 6: Is the number of big rubber things to the left of the big purple metallic thing the same as the number of brown rubber things?\n",
      "Реальный ответ: yes\n",
      "Предсказанный ответ: yes\n",
      "--------------------------------------------------\n",
      "\u001b[1m1/1\u001b[0m \u001b[32m━━━━━━━━━━━━━━━━━━━━\u001b[0m\u001b[37m\u001b[0m \u001b[1m0s\u001b[0m 38ms/step\n",
      "Вопрос 7: Is there any other thing that is the same material as the small cyan thing?\n",
      "Реальный ответ: yes\n",
      "Предсказанный ответ: yes\n",
      "--------------------------------------------------\n",
      "\u001b[1m1/1\u001b[0m \u001b[32m━━━━━━━━━━━━━━━━━━━━\u001b[0m\u001b[37m\u001b[0m \u001b[1m0s\u001b[0m 39ms/step\n",
      "Вопрос 8: Are the cube to the left of the large matte cube and the big purple cylinder made of the same material?\n",
      "Реальный ответ: no\n",
      "Предсказанный ответ: no\n",
      "--------------------------------------------------\n",
      "\u001b[1m1/1\u001b[0m \u001b[32m━━━━━━━━━━━━━━━━━━━━\u001b[0m\u001b[37m\u001b[0m \u001b[1m0s\u001b[0m 39ms/step\n",
      "Вопрос 9: Is the number of cyan metallic spheres that are behind the green object less than the number of rubber things that are behind the brown matte object?\n",
      "Реальный ответ: yes\n",
      "Предсказанный ответ: yes\n",
      "--------------------------------------------------\n",
      "\u001b[1m1/1\u001b[0m \u001b[32m━━━━━━━━━━━━━━━━━━━━\u001b[0m\u001b[37m\u001b[0m \u001b[1m0s\u001b[0m 45ms/step\n",
      "Вопрос 10: What size is the green sphere that is made of the same material as the blue thing?\n",
      "Реальный ответ: small\n",
      "Предсказанный ответ: metal\n",
      "--------------------------------------------------\n"
     ]
    }
   ],
   "source": [
    "# Функция для тестирования и визуализации\n",
    "def test_model(model, tokenizer, questions, answers, num_samples=10):\n",
    "    # Выбор случайных вопросов\n",
    "    random_questions = random.sample(list(zip(questions, answers)), num_samples)\n",
    "    for i, (question, answer) in enumerate(random_questions):\n",
    "        sequence = tokenizer.texts_to_sequences([question])\n",
    "        padded = pad_sequences(sequence, maxlen=max_len)\n",
    "        prediction = model.predict(padded)\n",
    "        predicted_answer = unique_answers[np.argmax(prediction)]\n",
    "        \n",
    "        print(f\"Вопрос {i + 1}: {question}\")\n",
    "        print(f\"Реальный ответ: {answer}\")\n",
    "        print(f\"Предсказанный ответ: {predicted_answer}\")\n",
    "        print(\"-\" * 50)\n",
    "\n",
    "# Тестирование модели\n",
    "test_model(model, tokenizer, all_questions, all_answers)"
   ]
  },
  {
   "cell_type": "markdown",
   "id": "21c4b05b-e8da-45b0-bdef-a2c9b02f4155",
   "metadata": {},
   "source": [
    "Визуализация внимания"
   ]
  },
  {
   "cell_type": "code",
   "execution_count": 25,
   "id": "1828392d-8d0a-4859-bece-b29e0eb2baa3",
   "metadata": {},
   "outputs": [
    {
     "data": {
      "image/png": "[encoded data removed]",
      "text/plain": [
       "<Figure size 640x480 with 1 Axes>"
      ]
     },
     "metadata": {},
     "output_type": "display_data"
    }
   ],
   "source": [
    "def visualize_attention(model, sentence, tokenizer):\n",
    "    sequence = tokenizer.texts_to_sequences([sentence])\n",
    "    padded = pad_sequences(sequence, maxlen=max_len)\n",
    "\n",
    "    # Получение внимания\n",
    "    attention_layer = model.layers[2]  # MultiHeadAttention слой\n",
    "    attention_output = tf.keras.Model(inputs=model.input, outputs=attention_layer.output)\n",
    "    attention_weights = attention_output(padded)\n",
    "\n",
    "    plt.imshow(attention_weights[0].numpy(), cmap='viridis')\n",
    "    plt.title(f\"Внимание трансформера для: {sentence}\")\n",
    "    plt.show()\n",
    "\n",
    "# Пример визуализации внимания\n",
    "example_question = \"What is left of the red sphere?\"\n",
    "visualize_attention(model, example_question, tokenizer)"
   ]
  },
  {
   "cell_type": "markdown",
   "id": "918453f1-dd97-4609-a928-6936d55a9630",
   "metadata": {},
   "source": [
    "Регистрация аккаунта на GitHub"
   ]
  },
  {
   "cell_type": "markdown",
   "id": "8ec78151-9a21-429e-855e-cf6fbdb4761a",
   "metadata": {},
   "source": [
    "Ссылка на акканут на GitHub:\n",
    "https://github.com/SaniyaIslamova26/LPforAI/tree/main"
   ]
  }
 ],
 "metadata": {
  "kernelspec": {
   "display_name": "Python 3 (ipykernel)",
   "language": "python",
   "name": "python3"
  },
  "language_info": {
   "codemirror_mode": {
    "name": "ipython",
    "version": 3
   },
   "file_extension": ".py",
   "mimetype": "text/x-python",
   "name": "python",
   "nbconvert_exporter": "python",
   "pygments_lexer": "ipython3",
   "version": "3.12.4"
  }
 },
 "nbformat": 4,
 "nbformat_minor": 5
}
