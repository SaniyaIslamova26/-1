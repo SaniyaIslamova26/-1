{
 "cells": [
  {
   "cell_type": "markdown",
   "id": "bd0c5354-a136-4b28-8a73-25d19584dd8a",
   "metadata": {},
   "source": [
    "Исламова Сания Маратовна\n",
    "НПИмд-01-24\n",
    "1132249576"
   ]
  },
  {
   "cell_type": "markdown",
   "id": "89b93f9c-cf78-44b6-b768-dc44150ac155",
   "metadata": {},
   "source": [
    "Семинар\n",
    "1 пункт"
   ]
  },
  {
   "cell_type": "code",
   "execution_count": 11,
   "id": "77da2729-996d-43fc-9b72-91000a9c658e",
   "metadata": {},
   "outputs": [
    {
     "name": "stdout",
     "output_type": "stream",
     "text": [
      "Model: \"model_6\"\n",
      "_________________________________________________________________\n",
      " Layer (type)                Output Shape              Param #   \n",
      "=================================================================\n",
      " input_7 (InputLayer)        [(None, 28, 28, 1)]       0         \n",
      "                                                                 \n",
      " conv2d_6 (Conv2D)           (None, 26, 26, 32)        320       \n",
      "                                                                 \n",
      " max_pooling2d_6 (MaxPoolin  (None, 13, 13, 32)        0         \n",
      " g2D)                                                            \n",
      "                                                                 \n",
      " conv2d_7 (Conv2D)           (None, 11, 11, 64)        18496     \n",
      "                                                                 \n",
      " max_pooling2d_7 (MaxPoolin  (None, 5, 5, 64)          0         \n",
      " g2D)                                                            \n",
      "                                                                 \n",
      " flatten (Flatten)           (None, 1600)              0         \n",
      "                                                                 \n",
      " dense_6 (Dense)             (None, 128)               204928    \n",
      "                                                                 \n",
      " dense_7 (Dense)             (None, 2)                 258       \n",
      "                                                                 \n",
      "=================================================================\n",
      "Total params: 224002 (875.01 KB)\n",
      "Trainable params: 224002 (875.01 KB)\n",
      "Non-trainable params: 0 (0.00 Byte)\n",
      "_________________________________________________________________\n"
     ]
    }
   ],
   "source": [
    "import tensorflow as tf\n",
    "\n",
    "def transformation_network(input_shape):\n",
    "    inputs = tf.keras.layers.Input(shape=input_shape)\n",
    "    \n",
    "    x = tf.keras.layers.Conv2D(32, (3, 3), activation='relu')(inputs)\n",
    "    x = tf.keras.layers.MaxPooling2D((2, 2))(x)\n",
    "    \n",
    "    x = tf.keras.layers.Conv2D(64, (3, 3), activation='relu')(x)\n",
    "    x = tf.keras.layers.MaxPooling2D((2, 2))(x)\n",
    "    \n",
    "    x = tf.keras.layers.Flatten()(x)\n",
    "    \n",
    "    x = tf.keras.layers.Dense(128, activation='relu')(x)\n",
    "    \n",
    "    outputs = tf.keras.layers.Dense(2)(x)  \n",
    "    \n",
    "    model = tf.keras.Model(inputs=inputs, outputs=outputs)\n",
    "    \n",
    "    return model\n",
    "input_shape = (28, 28, 1)  \n",
    "model = transformation_network(input_shape)\n",
    "model.summary()\n"
   ]
  },
  {
   "cell_type": "markdown",
   "id": "15dacfc4-8766-4945-83ab-048d0b9a20c5",
   "metadata": {},
   "source": [
    "2 пункт"
   ]
  },
  {
   "cell_type": "code",
   "execution_count": 3,
   "id": "47927ca1-8e18-4a39-807d-035253da747e",
   "metadata": {},
   "outputs": [
    {
     "name": "stdout",
     "output_type": "stream",
     "text": [
      "Object 1 is to the left of Object 2\n",
      "Object 1 is above Object 2\n"
     ]
    }
   ],
   "source": [
    "import cv2\n",
    "\n",
    "\n",
    "image = cv2.imread('image.jpg')\n",
    "\n",
    "\n",
    "object1_x, object1_y = 100, 150\n",
    "object2_x, object2_y = 200, 250\n",
    "\n",
    "\n",
    "if object1_x < object2_x:\n",
    "   print('Object 1 is to the left of Object 2')\n",
    "elif object1_x > object2_x:\n",
    "   print('Object 1 is to the right of Object 2')\n",
    "else:\n",
    "   print('Object 1 and Object 2 are in the same column')\n",
    "\n",
    "if object1_y < object2_y:\n",
    "    print('Object 1 is above Object 2')\n",
    "elif (object1_y > object2_y):\n",
    "    print('Object 1 is below Object 2')\n",
    "else:\n",
    "  print('Object 1 and Object 2 are in the same row')"
   ]
  },
  {
   "cell_type": "markdown",
   "id": "ecee1c5b-d253-4862-b7c0-3aaa4afe56b5",
   "metadata": {},
   "source": [
    "3 пункт"
   ]
  },
  {
   "cell_type": "code",
   "execution_count": 19,
   "id": "9054ef13-c695-484c-9c3f-ca497f6e6b4d",
   "metadata": {},
   "outputs": [
    {
     "name": "stdout",
     "output_type": "stream",
     "text": [
      "Found 100000 files belonging to 3 classes.\n",
      "{'image_index': 0, 'objects': [{'color': 'blue', 'size': 'large', 'rotation': 269.8517172617167, 'shape': 'cube', '3d_coords': [-1.3705521821975708, 2.0794010162353516, 0.699999988079071], 'material': 'rubber', 'pixel_coords': [269, 88, 12.661545753479004]}, {'color': 'green', 'size': 'large', 'rotation': 292.2219458666971, 'shape': 'cylinder', '3d_coords': [-2.9289753437042236, -1.7488206624984741, 0.699999988079071], 'material': 'metal', 'pixel_coords': [93, 108, 11.522202491760254]}, {'color': 'cyan', 'size': 'small', 'rotation': 25.545135239473026, 'shape': 'cube', '3d_coords': [1.5515961647033691, 0.6776641607284546, 0.3499999940395355], 'material': 'rubber', 'pixel_coords': [319, 162, 10.045343399047852]}, {'color': 'brown', 'size': 'large', 'rotation': 327.3489188814305, 'shape': 'cylinder', '3d_coords': [-0.25301405787467957, -2.3089325428009033, 0.699999988079071], 'material': 'metal', 'pixel_coords': [132, 159, 9.392304420471191]}, {'color': 'gray', 'size': 'small', 'rotation': 6.325183772442613, 'shape': 'cube', '3d_coords': [1.018894076347351, -1.93693208694458, 0.3499999940395355], 'material': 'rubber', 'pixel_coords': [192, 197, 8.907766342163086]}, {'color': 'brown', 'size': 'large', 'rotation': 25.96049348342493, 'shape': 'sphere', '3d_coords': [0.43993687629699707, 2.9987525939941406, 0.699999988079071], 'material': 'metal', 'pixel_coords': [353, 100, 11.964213371276855]}], 'relationships': {'right': [[2, 5], [0, 2, 3, 4, 5], [5], [0, 2, 4, 5], [0, 2, 5], []], 'behind': [[], [0, 5], [0, 1, 5], [0, 1, 2, 5], [0, 1, 2, 3, 5], [0]], 'front': [[1, 2, 3, 4, 5], [2, 3, 4], [3, 4], [4], [], [1, 2, 3, 4]], 'left': [[1, 3, 4], [], [0, 1, 3, 4], [1], [1, 3], [0, 1, 2, 3, 4]]}, 'image_filename': 'CLEVR_train_000000.png', 'split': 'train', 'directions': {'right': [0.6563112735748291, 0.7544902563095093, -0.0], 'behind': [-0.754490315914154, 0.6563112735748291, 0.0], 'above': [0.0, 0.0, 1.0], 'below': [-0.0, -0.0, -1.0], 'left': [-0.6563112735748291, -0.7544902563095093, 0.0], 'front': [0.754490315914154, -0.6563112735748291, -0.0]}}\n"
     ]
    }
   ],
   "source": [
    "import tensorflow as tf\n",
    "from tensorflow.keras.preprocessing import image_dataset_from_directory\n",
    "\n",
    "dataset_path = \"/Users/4eka0/Downloads/CLEVR_v1.0\"\n",
    "clevr_dataset = image_dataset_from_directory(dataset_path, image_size=(128, 128), batch_size=32)\n",
    "import json\n",
    "\n",
    "# Путь к аннотациям\n",
    "path_to_annotations = \"/Users/4eka0/Downloads/CLEVR_v1.0/scenes/CLEVR_train_scenes.json\"\n",
    "\n",
    "# Загрузка данных\n",
    "with open(path_to_annotations, 'r') as f:\n",
    "    clevr_data = json.load(f)\n",
    "\n",
    "# Структура данных\n",
    "scenes = clevr_data['scenes']  \n",
    "print(scenes[0])"
   ]
  },
  {
   "cell_type": "code",
   "execution_count": null,
   "id": "50bb0ec3-a82a-4341-9e70-2181799baa24",
   "metadata": {},
   "outputs": [],
   "source": []
  }
 ],
 "metadata": {
  "kernelspec": {
   "display_name": "Python 3 (ipykernel)",
   "language": "python",
   "name": "python3"
  },
  "language_info": {
   "codemirror_mode": {
    "name": "ipython",
    "version": 3
   },
   "file_extension": ".py",
   "mimetype": "text/x-python",
   "name": "python",
   "nbconvert_exporter": "python",
   "pygments_lexer": "ipython3",
   "version": "3.12.4"
  }
 },
 "nbformat": 4,
 "nbformat_minor": 5
}
